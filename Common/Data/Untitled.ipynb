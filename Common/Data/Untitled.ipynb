{
 "cells": [
  {
   "cell_type": "code",
   "execution_count": 1,
   "id": "5f1b8a1a",
   "metadata": {},
   "outputs": [],
   "source": [
    "# from scrapy.selector import Selector\n",
    "# from scrapy.http import HtmlResponse\n",
    "import requests\n",
    "from bs4 import BeautifulSoup\n",
    "\n",
    "from selenium.webdriver.firefox.options import Options as FirefoxOptions\n",
    "from selenium import webdriver\n",
    "from selenium.webdriver.common.by import By"
   ]
  },
  {
   "cell_type": "code",
   "execution_count": 2,
   "id": "db89ba26",
   "metadata": {},
   "outputs": [],
   "source": [
    "bin_path = r\"C:\\Users\\dgutulea_home\\Envs\\amz\\Scripts\"\n",
    "\n",
    "# configure Firefox Driver\n",
    "def configure_firefox_driver() -> webdriver.Firefox:\n",
    "    firefox_options = FirefoxOptions()\n",
    "    firefox_options.add_argument(\"--headless\")\n",
    "    driver = webdriver.Firefox(options=firefox_options)\n",
    "#     driver = webdriver.Firefox(bin_path, options = firefox_options)\n",
    "    return driver"
   ]
  },
  {
   "cell_type": "code",
   "execution_count": 3,
   "id": "387ce34b",
   "metadata": {},
   "outputs": [],
   "source": [
    "url_electronics_bestseller = \"https://www.amazon.com/Best-Sellers-Electronics/zgbs/electronics/ref=zg_bs_nav_0\""
   ]
  },
  {
   "cell_type": "code",
   "execution_count": 16,
   "id": "99e2ecc3",
   "metadata": {},
   "outputs": [],
   "source": [
    "driver = configure_firefox_driver()\n",
    "driver.get(url_electronics_bestseller)\n",
    "wp = BeautifulSoup(driver.page_source)\n",
    "\n",
    "filter_ahrefs = wp.find_all('a',href=True)\n",
    "price_list = [_.span for _ in filter_ahrefs if (\"$\" in str(_))]\n",
    "relative_url = price_list[1].parent.get('href')"
   ]
  },
  {
   "cell_type": "code",
   "execution_count": 18,
   "id": "92e8c562",
   "metadata": {},
   "outputs": [
    {
     "data": {
      "text/plain": [
       "'/all-new-Echo-Dot/dp/B07XJ8C8F5/ref=zg_bs_electronics_2/130-9873630-7634121?pd_rd_i=B07XJ8C8F5&psc=1'"
      ]
     },
     "execution_count": 18,
     "metadata": {},
     "output_type": "execute_result"
    }
   ],
   "source": [
    "relative_url"
   ]
  },
  {
   "cell_type": "code",
   "execution_count": 5,
   "id": "c8839b27",
   "metadata": {},
   "outputs": [
    {
     "data": {
      "text/plain": [
       "<div class=\"a-cardui _cDEzb_grid-cell_1uMOS expandableGrid p13n-grid-content\" data-a-card-type=\"basic\" id=\"p13n-asin-index-0\"><div class=\"a-section zg-bdg-ctr\"><div class=\"a-section zg-bdg-body zg-bdg-clr-body aok-float-left\"><span class=\"zg-bdg-text\">#1</span></div><div class=\"a-section zg-bdg-tri zg-bdg-clr-tri aok-float-left\"></div></div><div class=\"zg-grid-general-faceout\"><div><a class=\"a-link-normal\" href=\"/all-new-fire-tv-stick-4k-with-alexa-voice-remote/dp/B08XVYZ1Y5/ref=zg_bs_electronics_1/138-8083550-3176052?pd_rd_i=B08XVYZ1Y5&amp;psc=1\" role=\"link\" tabindex=\"-1\"><div class=\"a-section a-spacing-mini _cDEzb_noop_3Xbw5\"><img alt=\"Fire TV Stick 4K streaming device with latest Alexa Voice Remote (includes TV controls), Dolby Vision\" class=\"a-dynamic-image p13n-sc-dynamic-image p13n-product-image\" data-a-dynamic-image='{\"https://images-na.ssl-images-amazon.com/images/I/411y5UdVmvL._AC_UL302_SR302,200_.jpg\":[302,200],\"https://images-na.ssl-images-amazon.com/images/I/411y5UdVmvL._AC_UL604_SR604,400_.jpg\":[604,400],\"https://images-na.ssl-images-amazon.com/images/I/411y5UdVmvL._AC_UL906_SR906,600_.jpg\":[906,600]}' height=\"200px\" src=\"https://images-na.ssl-images-amazon.com/images/I/411y5UdVmvL._AC_UL302_SR302,200_.jpg\" style=\"max-width:302px;max-height:200px\"/></div></a><a class=\"a-link-normal\" href=\"/all-new-fire-tv-stick-4k-with-alexa-voice-remote/dp/B08XVYZ1Y5/ref=zg_bs_electronics_1/138-8083550-3176052?pd_rd_i=B08XVYZ1Y5&amp;psc=1\" role=\"link\"><span><div class=\"_cDEzb_p13n-sc-css-line-clamp-3_g3dy1\">Fire TV Stick 4K streaming device with latest Alexa Voice Remote (includes TV controls), Dolby Vision</div></span></a><div class=\"a-row\"><div class=\"a-icon-row\"><a class=\"a-link-normal\" href=\"/product-reviews/B08XVYZ1Y5/ref=zg_bs_electronics_cr_1/138-8083550-3176052?pd_rd_i=B08XVYZ1Y5\" title=\"4.8 out of 5 stars\"><i class=\"a-icon a-icon-star-small a-star-small-5 aok-align-top\"><span class=\"a-icon-alt\">4.8 out of 5 stars</span></i> <span class=\"a-size-small\">94,730</span></a></div></div><div class=\"a-row\"><a class=\"a-link-normal a-text-normal\" href=\"/all-new-fire-tv-stick-4k-with-alexa-voice-remote/dp/B08XVYZ1Y5/ref=zg_bs_electronics_1/138-8083550-3176052?pd_rd_i=B08XVYZ1Y5&amp;psc=1\" role=\"link\"><span class=\"a-size-base a-color-price\"><span class=\"_cDEzb_p13n-sc-price_3mJ9Z\">$34.99</span></span></a></div></div></div></div>"
      ]
     },
     "execution_count": 5,
     "metadata": {},
     "output_type": "execute_result"
    }
   ],
   "source": [
    "info_attr = \"div[id='p13n-asin-index-0'] div[class='zg-grid-general-faceout'] div div[class='_cDEzb_p13n-sc-css-line-clamp-3_g3dy1'\"\n",
    "filter_info_attr = wp.select(\"div[id='p13n-asin-index-0']\")[0]\n",
    "# filter_info_attr = filter_info_attr[0].select(\"div[class='zg-grid-general-faceout']\")\n",
    "filter_info_attr"
   ]
  },
  {
   "cell_type": "code",
   "execution_count": 6,
   "id": "09328285",
   "metadata": {},
   "outputs": [],
   "source": []
  },
  {
   "cell_type": "code",
   "execution_count": 14,
   "id": "92c3de47",
   "metadata": {},
   "outputs": [
    {
     "data": {
      "text/plain": [
       "'https://www.amazon.com/all-new-fire-tv-stick-4k-with-alexa-voice-remote/dp/B08XVYZ1Y5/ref=zg_bs_electronics_1/138-8083550-3176052?pd_rd_i=B08XVYZ1Y5&psc=1'"
      ]
     },
     "execution_count": 14,
     "metadata": {},
     "output_type": "execute_result"
    }
   ],
   "source": [
    "new_url = \"https://www.amazon.com\" + relative_url\n",
    "new_url"
   ]
  },
  {
   "cell_type": "code",
   "execution_count": null,
   "id": "66990e6f",
   "metadata": {},
   "outputs": [],
   "source": [
    "driver.get(url_electronics_bestseller)\n"
   ]
  },
  {
   "cell_type": "code",
   "execution_count": null,
   "id": "f6f23c50",
   "metadata": {},
   "outputs": [],
   "source": [
    "\n",
    "price0 = price_list[0]\n",
    "parents0 = price0.parentGenerator()\n",
    "\n",
    "relatives0 = dict()\n",
    "\n",
    "for i in range(10):\n",
    "    current_gen = f\"gen{i+1}\"\n",
    "    relatives0.update({current_gen:next(parents0)})"
   ]
  },
  {
   "cell_type": "code",
   "execution_count": null,
   "id": "1618c1a4",
   "metadata": {},
   "outputs": [],
   "source": []
  },
  {
   "cell_type": "code",
   "execution_count": 4,
   "id": "b0b56018",
   "metadata": {},
   "outputs": [],
   "source": []
  },
  {
   "cell_type": "code",
   "execution_count": 5,
   "id": "01361f2a",
   "metadata": {},
   "outputs": [],
   "source": []
  },
  {
   "cell_type": "code",
   "execution_count": null,
   "id": "4bd0e46e",
   "metadata": {},
   "outputs": [],
   "source": []
  },
  {
   "cell_type": "code",
   "execution_count": null,
   "id": "45e65a3d",
   "metadata": {},
   "outputs": [],
   "source": [
    "info_attr = \"div[id='p13n-asin-index-0'] div[class='zg-grid-general-faceout'] div div[class='_cDEzb_p13n-sc-css-line-clamp-3_g3dy1'\"\n",
    "filter_info_attr = wp.select(\"div[id='p13n-asin-index-0']\")[0].select(\"div[class='zg-grid-general-faceout']\")[0].select('div')[0].select(\"div[class='_cDEzb_p13n-sc-css-line-clamp-3_g3dy1'\")\n",
    "# filter_info_attr = filter_info_attr[0].select(\"div[class='zg-grid-general-faceout']\")\n",
    "filter_info_attr"
   ]
  },
  {
   "cell_type": "code",
   "execution_count": null,
   "id": "78b6a053",
   "metadata": {},
   "outputs": [],
   "source": []
  },
  {
   "cell_type": "code",
   "execution_count": null,
   "id": "e2989b9c",
   "metadata": {
    "scrolled": false
   },
   "outputs": [],
   "source": [
    "info_attr = \"p13n-desktop-grid\"\n",
    "filter_info_attr = wp.find_all(class_=info_attr)"
   ]
  },
  {
   "cell_type": "code",
   "execution_count": null,
   "id": "82959c1d",
   "metadata": {},
   "outputs": [],
   "source": [
    "filter_info_attr\n",
    "info_contents = filter_info_attr[0].contents"
   ]
  },
  {
   "cell_type": "code",
   "execution_count": null,
   "id": "ca9c5ac7",
   "metadata": {},
   "outputs": [],
   "source": [
    "list(info_contents[0])"
   ]
  },
  {
   "cell_type": "code",
   "execution_count": null,
   "id": "24a0a231",
   "metadata": {},
   "outputs": [],
   "source": [
    "list(info_contents[0].descendants)[1].text"
   ]
  },
  {
   "cell_type": "code",
   "execution_count": null,
   "id": "d690ed5b",
   "metadata": {},
   "outputs": [],
   "source": [
    "list(info_contents[0].descendants)[12].contents"
   ]
  }
 ],
 "metadata": {
  "kernelspec": {
   "display_name": "Python 3 (ipykernel)",
   "language": "python",
   "name": "python3"
  },
  "language_info": {
   "codemirror_mode": {
    "name": "ipython",
    "version": 3
   },
   "file_extension": ".py",
   "mimetype": "text/x-python",
   "name": "python",
   "nbconvert_exporter": "python",
   "pygments_lexer": "ipython3",
   "version": "3.10.4"
  }
 },
 "nbformat": 4,
 "nbformat_minor": 5
}
